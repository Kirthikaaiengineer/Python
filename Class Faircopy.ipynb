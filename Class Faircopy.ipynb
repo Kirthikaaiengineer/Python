{
 "cells": [
  {
   "cell_type": "code",
   "execution_count": 6,
   "id": "b2ffd1fc",
   "metadata": {},
   "outputs": [],
   "source": [
    "from classall import multiplefunctions"
   ]
  },
  {
   "cell_type": "code",
   "execution_count": 8,
   "id": "d07052a9",
   "metadata": {},
   "outputs": [
    {
     "name": "stdout",
     "output_type": "stream",
     "text": [
      "Height:2\n",
      "Breadth:3\n",
      "Area formula: (Height*Breadth)/2\n",
      "Area of triangle: 3.0\n",
      "Height1:4\n",
      "Height2:5\n",
      "Breadth:6\n",
      "Perimeter formula: Height1+Height2+Breadth\n",
      "Perimeter of Triangle:: 15\n"
     ]
    }
   ],
   "source": [
    "multiplefunctions.triangle()"
   ]
  },
  {
   "cell_type": "code",
   "execution_count": 9,
   "id": "e02fda53",
   "metadata": {},
   "outputs": [
    {
     "name": "stdout",
     "output_type": "stream",
     "text": [
      "Subject1=95\n",
      "Subject2=87\n",
      "Subject3=95\n",
      "Subject4=95\n",
      "Subject5=95\n",
      "Total: 467\n",
      "Percentage: 93.4\n"
     ]
    }
   ],
   "source": [
    "multiplefunctions.percentage()"
   ]
  },
  {
   "cell_type": "code",
   "execution_count": 11,
   "id": "6e6b2d74",
   "metadata": {},
   "outputs": [
    {
     "name": "stdout",
     "output_type": "stream",
     "text": [
      " Your Gender: Male \n",
      "Your Age:22\n",
      "NOT ELIGIBLE\n"
     ]
    }
   ],
   "source": [
    "multiplefunctions.Elegible()"
   ]
  },
  {
   "cell_type": "code",
   "execution_count": null,
   "id": "4a0c4c7c",
   "metadata": {},
   "outputs": [],
   "source": []
  }
 ],
 "metadata": {
  "kernelspec": {
   "display_name": "Python 3 (ipykernel)",
   "language": "python",
   "name": "python3"
  },
  "language_info": {
   "codemirror_mode": {
    "name": "ipython",
    "version": 3
   },
   "file_extension": ".py",
   "mimetype": "text/x-python",
   "name": "python",
   "nbconvert_exporter": "python",
   "pygments_lexer": "ipython3",
   "version": "3.11.7"
  }
 },
 "nbformat": 4,
 "nbformat_minor": 5
}

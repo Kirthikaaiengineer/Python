{
 "cells": [
  {
   "cell_type": "code",
   "execution_count": 1,
   "id": "29e3d137",
   "metadata": {},
   "outputs": [],
   "source": [
    " #Create a function that checks whether the given number is Odd or Even\n",
    "    #OddEven.OddEven()\n",
    "#Enter a number: 52452\n",
    "#52452 is Even number"
   ]
  },
  {
   "cell_type": "code",
   "execution_count": 18,
   "id": "2fca6b50",
   "metadata": {},
   "outputs": [],
   "source": [
    "def OddEvenOddEven():\n",
    "    num=int(input(\" Enter a number:\"))\n",
    "    if (num%2==0):\n",
    "        print(num,\"is Even Number\")\n",
    "        message=num,\"is Even Number\"\n",
    "    else:\n",
    "        print(num,\"is Odd Number\")\n",
    "        message=num,\"is Odd Number\"\n",
    "        return(message)\n"
   ]
  },
  {
   "cell_type": "code",
   "execution_count": 17,
   "id": "11aa9b54",
   "metadata": {},
   "outputs": [
    {
     "name": "stdout",
     "output_type": "stream",
     "text": [
      " Enter a number:52452\n",
      "52452 is Even Number\n"
     ]
    },
    {
     "data": {
      "text/plain": [
       "(52452, 'is Even Number')"
      ]
     },
     "execution_count": 17,
     "metadata": {},
     "output_type": "execute_result"
    }
   ],
   "source": [
    "OddEvenOddEven()"
   ]
  },
  {
   "cell_type": "code",
   "execution_count": 56,
   "id": "66be72a1",
   "metadata": {},
   "outputs": [],
   "source": [
    "def ElegiblityForMarriage():\n",
    "    a=input(\" Your Gender: \") \n",
    "    b=int(input(\"Your Age:\")) \n",
    "    if(a==\"Male\") and (b>21):\n",
    "        print(\" ELIGIBLE\") \n",
    "    elif(a==\"Female\") and (b>18):\n",
    "         print(\"ElIGIBLE\") \n",
    "    else: \n",
    "        print(\"NOT ELIGIBLE\")"
   ]
  },
  {
   "cell_type": "code",
   "execution_count": 57,
   "id": "b57d68f6",
   "metadata": {},
   "outputs": [
    {
     "name": "stdout",
     "output_type": "stream",
     "text": [
      " Your Gender: Male\n",
      "Your Age:20\n",
      "NOT ELIGIBLE\n"
     ]
    }
   ],
   "source": [
    "ElegiblityForMarriage()"
   ]
  },
  {
   "cell_type": "code",
   "execution_count": 58,
   "id": "295cac4c",
   "metadata": {},
   "outputs": [],
   "source": [
    "#calculate the percentage of your 10th mark\n",
    "#Subject1= 98\n",
    "#Subject2= 87\n",
    "#Subject3= 95\n",
    "#Subject4= 95\n",
    "#Subject5= 93\n",
    "#Total : 468\n",
    "#Percentage : 93.60000000000001\n"
   ]
  },
  {
   "cell_type": "code",
   "execution_count": 70,
   "id": "7f71a66d",
   "metadata": {},
   "outputs": [],
   "source": [
    "def percentage():\n",
    "    S1=int(input(\"Subject1=\"))\n",
    "    S2=int(input(\"Subject2=\"))\n",
    "    S3=int(input(\"Subject3=\"))\n",
    "    S4=int(input(\"Subject4=\"))\n",
    "    S5=int(input(\"Subject5=\"))\n",
    "    total = S1 + S2 + S3 + S4 + S5\n",
    "    print(\"Total:\", total )\n",
    "    Percentage =(total/500)*100\n",
    "    print(\"Percentage:\", Percentage )\n",
    "\n"
   ]
  },
  {
   "cell_type": "code",
   "execution_count": 71,
   "id": "0bec8f82",
   "metadata": {},
   "outputs": [
    {
     "name": "stdout",
     "output_type": "stream",
     "text": [
      "Subject1=98\n",
      "Subject2=87\n",
      "Subject3=95\n",
      "Subject4=95\n",
      "Subject5=93\n",
      "Total: 468\n",
      "Percentage: 93.60000000000001\n"
     ]
    }
   ],
   "source": [
    "percentage()"
   ]
  },
  {
   "cell_type": "code",
   "execution_count": 72,
   "id": "f8a041d3",
   "metadata": {},
   "outputs": [],
   "source": [
    "#Height:32\n",
    "#Breadth:34\n",
    "#Area formula: (Height*Breadth)/2\n",
    "#Area of Triangle: 544.0\n",
    "#Height1:2\n",
    "#Height2:4\n",
    "#Breadth:4\n",
    "#Perimeter formula: Height1+Height2+Breadth\n",
    "#Perimeter of Triangle: 10"
   ]
  },
  {
   "cell_type": "code",
   "execution_count": 81,
   "id": "3e8ff1f0",
   "metadata": {},
   "outputs": [],
   "source": [
    "def triangle():\n",
    "    Height=int(input(\"Height:\"))\n",
    "    Breadth=int(input(\"Breadth:\"))\n",
    "    print(\"Area formula: (Height*Breadth)/2\")\n",
    "    Areaformula= (Height*Breadth)/2\n",
    "    print(\"Area of triangle:\",Areaformula )\n",
    "    Height1=int(input(\"Height1:\"))\n",
    "    Height2=int(input(\"Height2:\"))\n",
    "    Breadth=int(input(\"Breadth:\"))\n",
    "    print(\"Perimeter formula: Height1+Height2+Breadth\")\n",
    "    Perimeterformula=Height1+Height2+Breadth\n",
    "    print(\"Perimeter of Triangle::\",Perimeterformula)\n"
   ]
  },
  {
   "cell_type": "code",
   "execution_count": 82,
   "id": "bd4d84b2",
   "metadata": {},
   "outputs": [
    {
     "name": "stdout",
     "output_type": "stream",
     "text": [
      "Height:32\n",
      "Breadth:34\n",
      "Area formula: (Height*Breadth)/2\n",
      "Area of triangle: 544.0\n",
      "Height1:2\n",
      "Height2:4\n",
      "Breadth:4\n",
      "Perimeter formula: Height1+Height2+Breadth\n",
      "Perimeter of Triangle:: 10\n"
     ]
    }
   ],
   "source": [
    "triangle()"
   ]
  },
  {
   "cell_type": "code",
   "execution_count": 83,
   "id": "1bdc4d67",
   "metadata": {},
   "outputs": [],
   "source": [
    "#Sub-fields in AI are:\n",
    "#Machine Learning\n",
    "#Neural Networks\n",
    "#Vision\n",
    "#Robotics\n",
    "#Speech Processing\n",
    "#Natural Language Processing"
   ]
  },
  {
   "cell_type": "code",
   "execution_count": 88,
   "id": "e4dae3da",
   "metadata": {},
   "outputs": [
    {
     "name": "stdout",
     "output_type": "stream",
     "text": [
      "Sub-fields in AI are:\n",
      "Machine Learning , Neural Networks, Vision , Robotics , Speech Processing , Natural Language Processing\n"
     ]
    }
   ],
   "source": [
    "lists=[\"Machine Learning\" , \"Neural Networks\", Vision , Robotics , Speech Processing , Natural Language Processing\"]\n",
    "for AI in lists:\n",
    "    print(\"Sub-fields in AI are:\", end='\\n')\n",
    "    print(AI)"
   ]
  },
  {
   "cell_type": "code",
   "execution_count": null,
   "id": "499812af",
   "metadata": {},
   "outputs": [],
   "source": []
  }
 ],
 "metadata": {
  "kernelspec": {
   "display_name": "Python 3 (ipykernel)",
   "language": "python",
   "name": "python3"
  },
  "language_info": {
   "codemirror_mode": {
    "name": "ipython",
    "version": 3
   },
   "file_extension": ".py",
   "mimetype": "text/x-python",
   "name": "python",
   "nbconvert_exporter": "python",
   "pygments_lexer": "ipython3",
   "version": "3.11.7"
  }
 },
 "nbformat": 4,
 "nbformat_minor": 5
}

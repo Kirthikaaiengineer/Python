{
 "cells": [
  {
   "cell_type": "code",
   "execution_count": 1,
   "id": "ffe2585d",
   "metadata": {},
   "outputs": [],
   "source": [
    " #Create a function that checks whether the given number is Odd or Even\n",
    "    #OddEven.OddEven()\n",
    "#Enter a number: 52452\n",
    "#52452 is Even number"
   ]
  },
  {
   "cell_type": "code",
   "execution_count": 18,
   "id": "66cae736",
   "metadata": {},
   "outputs": [],
   "source": [
    "def OddEvenOddEven():\n",
    "    num=int(input(\" Enter a number:\"))\n",
    "    if (num%2==0):\n",
    "        print(num,\"is Even Number\")\n",
    "        message=num,\"is Even Number\"\n",
    "    else:\n",
    "        print(num,\"is Odd Number\")\n",
    "        message=num,\"is Odd Number\"\n",
    "        return(message)\n"
   ]
  },
  {
   "cell_type": "code",
   "execution_count": 17,
   "id": "5f167d83",
   "metadata": {},
   "outputs": [
    {
     "name": "stdout",
     "output_type": "stream",
     "text": [
      " Enter a number:52452\n",
      "52452 is Even Number\n"
     ]
    },
    {
     "data": {
      "text/plain": [
       "(52452, 'is Even Number')"
      ]
     },
     "execution_count": 17,
     "metadata": {},
     "output_type": "execute_result"
    }
   ],
   "source": [
    "OddEvenOddEven()"
   ]
  },
  {
   "cell_type": "code",
   "execution_count": 56,
   "id": "7e7271f0",
   "metadata": {},
   "outputs": [],
   "source": [
    "def ElegiblityForMarriage():\n",
    "    a=input(\" Your Gender: \") \n",
    "    b=int(input(\"Your Age:\")) \n",
    "    if(a==\"Male\") and (b>21):\n",
    "        print(\" ELIGIBLE\") \n",
    "    elif(a==\"Female\") and (b>18):\n",
    "         print(\"ElIGIBLE\") \n",
    "    else: \n",
    "        print(\"NOT ELIGIBLE\")"
   ]
  },
  {
   "cell_type": "code",
   "execution_count": 57,
   "id": "680ef132",
   "metadata": {},
   "outputs": [
    {
     "name": "stdout",
     "output_type": "stream",
     "text": [
      " Your Gender: Male\n",
      "Your Age:20\n",
      "NOT ELIGIBLE\n"
     ]
    }
   ],
   "source": [
    "ElegiblityForMarriage()"
   ]
  },
  {
   "cell_type": "code",
   "execution_count": 58,
   "id": "c4a83d77",
   "metadata": {},
   "outputs": [],
   "source": [
    "#calculate the percentage of your 10th mark\n",
    "#Subject1= 98\n",
    "#Subject2= 87\n",
    "#Subject3= 95\n",
    "#Subject4= 95\n",
    "#Subject5= 93\n",
    "#Total : 468\n",
    "#Percentage : 93.60000000000001\n"
   ]
  },
  {
   "cell_type": "code",
   "execution_count": 70,
   "id": "055c444e",
   "metadata": {},
   "outputs": [],
   "source": [
    "def percentage():\n",
    "    S1=int(input(\"Subject1=\"))\n",
    "    S2=int(input(\"Subject2=\"))\n",
    "    S3=int(input(\"Subject3=\"))\n",
    "    S4=int(input(\"Subject4=\"))\n",
    "    S5=int(input(\"Subject5=\"))\n",
    "    total = S1 + S2 + S3 + S4 + S5\n",
    "    print(\"Total:\", total )\n",
    "    Percentage =(total/500)*100\n",
    "    print(\"Percentage:\", Percentage )\n",
    "\n"
   ]
  },
  {
   "cell_type": "code",
   "execution_count": 71,
   "id": "94d45938",
   "metadata": {},
   "outputs": [
    {
     "name": "stdout",
     "output_type": "stream",
     "text": [
      "Subject1=98\n",
      "Subject2=87\n",
      "Subject3=95\n",
      "Subject4=95\n",
      "Subject5=93\n",
      "Total: 468\n",
      "Percentage: 93.60000000000001\n"
     ]
    }
   ],
   "source": [
    "percentage()"
   ]
  },
  {
   "cell_type": "code",
   "execution_count": 72,
   "id": "6b6ea15c",
   "metadata": {},
   "outputs": [],
   "source": [
    "#Height:32\n",
    "#Breadth:34\n",
    "#Area formula: (Height*Breadth)/2\n",
    "#Area of Triangle: 544.0\n",
    "#Height1:2\n",
    "#Height2:4\n",
    "#Breadth:4\n",
    "#Perimeter formula: Height1+Height2+Breadth\n",
    "#Perimeter of Triangle: 10"
   ]
  },
  {
   "cell_type": "code",
   "execution_count": 81,
   "id": "19111a86",
   "metadata": {},
   "outputs": [],
   "source": [
    "def triangle():\n",
    "    Height=int(input(\"Height:\"))\n",
    "    Breadth=int(input(\"Breadth:\"))\n",
    "    print(\"Area formula: (Height*Breadth)/2\")\n",
    "    Areaformula= (Height*Breadth)/2\n",
    "    print(\"Area of triangle:\",Areaformula )\n",
    "    Height1=int(input(\"Height1:\"))\n",
    "    Height2=int(input(\"Height2:\"))\n",
    "    Breadth=int(input(\"Breadth:\"))\n",
    "    print(\"Perimeter formula: Height1+Height2+Breadth\")\n",
    "    Perimeterformula=Height1+Height2+Breadth\n",
    "    print(\"Perimeter of Triangle::\",Perimeterformula)\n"
   ]
  },
  {
   "cell_type": "code",
   "execution_count": 82,
   "id": "cf9a89b1",
   "metadata": {},
   "outputs": [
    {
     "name": "stdout",
     "output_type": "stream",
     "text": [
      "Height:32\n",
      "Breadth:34\n",
      "Area formula: (Height*Breadth)/2\n",
      "Area of triangle: 544.0\n",
      "Height1:2\n",
      "Height2:4\n",
      "Breadth:4\n",
      "Perimeter formula: Height1+Height2+Breadth\n",
      "Perimeter of Triangle:: 10\n"
     ]
    }
   ],
   "source": [
    "triangle()"
   ]
  },
  {
   "cell_type": "code",
   "execution_count": 83,
   "id": "7686ce73",
   "metadata": {},
   "outputs": [],
   "source": [
    "#Sub-fields in AI are:\n",
    "#Machine Learning\n",
    "#Neural Networks\n",
    "#Vision\n",
    "#Robotics\n",
    "#Speech Processing\n",
    "#Natural Language Processing"
   ]
  },
  {
   "cell_type": "code",
   "execution_count": 91,
   "id": "58810234",
   "metadata": {},
   "outputs": [],
   "source": [
    "lists=[\"Machine Learning\" , \"Neural Networks\", \"Vision\" , \"Robotics\" , \"Speech Processing\" , \"Natural Language Processing\"]\n",
    "def Subfields():\n",
    "    print(\"Sub-fields in AI are:\", end='\\n')\n",
    "    for AI in lists:\n",
    "        print(AI)"
   ]
  },
  {
   "cell_type": "code",
   "execution_count": 92,
   "id": "101f60d1",
   "metadata": {},
   "outputs": [
    {
     "name": "stdout",
     "output_type": "stream",
     "text": [
      "Sub-fields in AI are:\n",
      "Machine Learning\n",
      "Neural Networks\n",
      "Vision\n",
      "Robotics\n",
      "Speech Processing\n",
      "Natural Language Processing\n"
     ]
    }
   ],
   "source": [
    "Subfields()"
   ]
  },
  {
   "cell_type": "code",
   "execution_count": null,
   "id": "e2f8bbd5",
   "metadata": {},
   "outputs": [],
   "source": []
  }
 ],
 "metadata": {
  "kernelspec": {
   "display_name": "Python 3 (ipykernel)",
   "language": "python",
   "name": "python3"
  },
  "language_info": {
   "codemirror_mode": {
    "name": "ipython",
    "version": 3
   },
   "file_extension": ".py",
   "mimetype": "text/x-python",
   "name": "python",
   "nbconvert_exporter": "python",
   "pygments_lexer": "ipython3",
   "version": "3.11.7"
  }
 },
 "nbformat": 4,
 "nbformat_minor": 5
}

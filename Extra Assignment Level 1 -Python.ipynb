{
 "cells": [
  {
   "cell_type": "code",
   "execution_count": 1,
   "id": "7c47bea0",
   "metadata": {},
   "outputs": [
    {
     "name": "stdout",
     "output_type": "stream",
     "text": [
      "HOPE AI\n"
     ]
    }
   ],
   "source": [
    "print(\"HOPE AI\")"
   ]
  },
  {
   "cell_type": "code",
   "execution_count": 2,
   "id": "5a472fec",
   "metadata": {},
   "outputs": [],
   "source": [
    "#Enter your institute name? : HOPE AI\n"
   ]
  },
  {
   "cell_type": "code",
   "execution_count": 3,
   "id": "35910cfe",
   "metadata": {},
   "outputs": [
    {
     "name": "stdout",
     "output_type": "stream",
     "text": [
      "Enter your institute name? :HOPE AI\n"
     ]
    }
   ],
   "source": [
    "institute=input(\"Enter your institute name? :\")\n"
   ]
  },
  {
   "cell_type": "code",
   "execution_count": 4,
   "id": "e1810da3",
   "metadata": {},
   "outputs": [
    {
     "name": "stdout",
     "output_type": "stream",
     "text": [
      "Enter your name: Raj\n",
      "Enter your age: 15\n",
      "Enter your School name:  Guru school\n",
      "Enter your drgree:  B.E CSE\n"
     ]
    }
   ],
   "source": [
    "Name=input(\"Enter your name: \")\n",
    "age=int(input(\"Enter your age: \"))\n",
    "School=input(\"Enter your School name: \")\n",
    "drgree=input(\"Enter your drgree: \")\n",
    "\n"
   ]
  },
  {
   "cell_type": "code",
   "execution_count": 5,
   "id": "4fbd4858",
   "metadata": {},
   "outputs": [
    {
     "name": "stdout",
     "output_type": "stream",
     "text": [
      "a= 43\n",
      "b= 34\n",
      "add= 77\n"
     ]
    }
   ],
   "source": [
    "a=43\n",
    "b=34\n",
    "add=a+b\n",
    "print(\"a=\", a)\n",
    "print(\"b=\", b)\n",
    "print(\"add=\",add)"
   ]
  },
  {
   "cell_type": "code",
   "execution_count": 8,
   "id": "0bb0ce94",
   "metadata": {},
   "outputs": [
    {
     "data": {
      "text/plain": [
       "43"
      ]
     },
     "execution_count": 8,
     "metadata": {},
     "output_type": "execute_result"
    }
   ],
   "source": [
    "a"
   ]
  },
  {
   "cell_type": "code",
   "execution_count": 9,
   "id": "48dd412e",
   "metadata": {},
   "outputs": [
    {
     "data": {
      "text/plain": [
       "34"
      ]
     },
     "execution_count": 9,
     "metadata": {},
     "output_type": "execute_result"
    }
   ],
   "source": [
    "b"
   ]
  },
  {
   "cell_type": "code",
   "execution_count": 11,
   "id": "ba9ca639",
   "metadata": {},
   "outputs": [
    {
     "data": {
      "text/plain": [
       "9"
      ]
     },
     "execution_count": 11,
     "metadata": {},
     "output_type": "execute_result"
    }
   ],
   "source": [
    "sub=a-b\n",
    "sub"
   ]
  },
  {
   "cell_type": "code",
   "execution_count": 12,
   "id": "2175c869",
   "metadata": {},
   "outputs": [
    {
     "name": "stdout",
     "output_type": "stream",
     "text": [
      "a= 43\n",
      "b= 34\n",
      "sub= 9\n"
     ]
    }
   ],
   "source": [
    "print(\"a=\", a)\n",
    "print(\"b=\", b)\n",
    "print(\"sub=\",sub)"
   ]
  },
  {
   "cell_type": "code",
   "execution_count": 15,
   "id": "8a1007b3",
   "metadata": {},
   "outputs": [
    {
     "name": "stdout",
     "output_type": "stream",
     "text": [
      "a= 63\n",
      "b= 97\n",
      "Mul= 6111\n"
     ]
    }
   ],
   "source": [
    "a= 63\n",
    "b= 97\n",
    "Mul = a*b\n",
    "print(\"a=\", a)\n",
    "print(\"b=\", b)\n",
    "print(\"Mul=\",Mul)\n"
   ]
  },
  {
   "cell_type": "code",
   "execution_count": 16,
   "id": "d79b1cd3",
   "metadata": {},
   "outputs": [],
   "source": [
    "#a= 76\n",
    "#b= 31\n",
    "#Float Div = 2.4516129032258065|"
   ]
  },
  {
   "cell_type": "code",
   "execution_count": 18,
   "id": "ac5f96fc",
   "metadata": {},
   "outputs": [
    {
     "name": "stdout",
     "output_type": "stream",
     "text": [
      "a= 76\n",
      "b= 31\n",
      "FloatDiv= 2.4516129032258065\n"
     ]
    }
   ],
   "source": [
    "a= 76\n",
    "b= 31\n",
    "FloatDiv =a/b\n",
    "print(\"a=\", a)\n",
    "print(\"b=\", b)\n",
    "print(\"FloatDiv=\",FloatDiv)\n",
    "\n"
   ]
  },
  {
   "cell_type": "code",
   "execution_count": 19,
   "id": "818db9c5",
   "metadata": {},
   "outputs": [
    {
     "name": "stdout",
     "output_type": "stream",
     "text": [
      "a= 76\n",
      "b= 31\n",
      "FloorDiv= 2\n"
     ]
    }
   ],
   "source": [
    "FloorDiv=a//b\n",
    "print(\"a=\", a)\n",
    "print(\"b=\", b)\n",
    "print(\"FloorDiv=\",FloorDiv)\n"
   ]
  },
  {
   "cell_type": "code",
   "execution_count": 20,
   "id": "4c5753c9",
   "metadata": {},
   "outputs": [
    {
     "name": "stdout",
     "output_type": "stream",
     "text": [
      "a= 76\n",
      "b= 31\n",
      "Modulo= 14\n"
     ]
    }
   ],
   "source": [
    "Modulo=a%b\n",
    "print(\"a=\", a)\n",
    "print(\"b=\", b)\n",
    "print(\"Modulo=\",Modulo)"
   ]
  },
  {
   "cell_type": "code",
   "execution_count": 21,
   "id": "ce310133",
   "metadata": {},
   "outputs": [
    {
     "name": "stdout",
     "output_type": "stream",
     "text": [
      "a= 4\n",
      "b= 4\n",
      "power= 256\n"
     ]
    }
   ],
   "source": [
    "a= 4\n",
    "b= 4\n",
    "power=a**b\n",
    "print(\"a=\", a)\n",
    "print(\"b=\", b)\n",
    "print(\"power=\",power)\n"
   ]
  },
  {
   "cell_type": "code",
   "execution_count": null,
   "id": "08f4ec94",
   "metadata": {},
   "outputs": [],
   "source": []
  }
 ],
 "metadata": {
  "kernelspec": {
   "display_name": "Python 3 (ipykernel)",
   "language": "python",
   "name": "python3"
  },
  "language_info": {
   "codemirror_mode": {
    "name": "ipython",
    "version": 3
   },
   "file_extension": ".py",
   "mimetype": "text/x-python",
   "name": "python",
   "nbconvert_exporter": "python",
   "pygments_lexer": "ipython3",
   "version": "3.11.7"
  }
 },
 "nbformat": 4,
 "nbformat_minor": 5
}

{
 "cells": [
  {
   "cell_type": "code",
   "execution_count": 1,
   "id": "c0c8417d",
   "metadata": {},
   "outputs": [
    {
     "name": "stdout",
     "output_type": "stream",
     "text": [
      "Welcome to Assignment-1\n"
     ]
    }
   ],
   "source": [
    "print(\"Welcome to Assignment-1\")"
   ]
  },
  {
   "cell_type": "code",
   "execution_count": 19,
   "id": "fea4d7bd",
   "metadata": {},
   "outputs": [
    {
     "name": "stdout",
     "output_type": "stream",
     "text": [
      "Num1= 10\n",
      "Num2= 30\n",
      "Add= 40\n"
     ]
    }
   ],
   "source": [
    "Num1=10\n",
    "Num2=30\n",
    "Add = Num1+Num2\n",
    "print(\"Num1=\", Num1)\n",
    "print(\"Num2=\", Num2)\n",
    "print(\"Add=\", Add)"
   ]
  },
  {
   "cell_type": "code",
   "execution_count": 20,
   "id": "b3c4a6aa",
   "metadata": {},
   "outputs": [],
   "source": [
    "#Enter the BMI Index:34\n",
    "#Very Overweight\n"
   ]
  },
  {
   "cell_type": "code",
   "execution_count": 22,
   "id": "743e0a81",
   "metadata": {},
   "outputs": [
    {
     "name": "stdout",
     "output_type": "stream",
     "text": [
      " Enter the BMI Index: 34\n",
      "Very Overweight\n"
     ]
    }
   ],
   "source": [
    "weight = int(input(\" Enter the BMI Index: \"))\n",
    "if( weight<18.5):\n",
    "    print(\"Underweight\")\n",
    "elif( weight<24.9):\n",
    "    print(\"Normalweight\")\n",
    "elif( weight<29.9):\n",
    "    print(\"overweight\")\n",
    "else:\n",
    "    print(\"Very Overweight\")\n",
    "    "
   ]
  },
  {
   "cell_type": "code",
   "execution_count": null,
   "id": "2099226d",
   "metadata": {},
   "outputs": [],
   "source": []
  }
 ],
 "metadata": {
  "kernelspec": {
   "display_name": "Python 3 (ipykernel)",
   "language": "python",
   "name": "python3"
  },
  "language_info": {
   "codemirror_mode": {
    "name": "ipython",
    "version": 3
   },
   "file_extension": ".py",
   "mimetype": "text/x-python",
   "name": "python",
   "nbconvert_exporter": "python",
   "pygments_lexer": "ipython3",
   "version": "3.11.7"
  }
 },
 "nbformat": 4,
 "nbformat_minor": 5
}

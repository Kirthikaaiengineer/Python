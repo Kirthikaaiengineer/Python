{
 "cells": [
  {
   "cell_type": "code",
   "execution_count": 5,
   "id": "62eba2a7",
   "metadata": {},
   "outputs": [],
   "source": [
    " lists=[\"Machine Learning\" , \"Neural Networks\", \"Vision\" , \"Robotics\" , \"Speech Processing\" , \"Natural Language Processing\"]\n",
    "class SubfieldsInAI:\n",
    "    def Subfields():\n",
    "        print(\"Sub-fields in AI are:\", end='\\n')\n",
    "        for AI in lists:\n",
    "            print(AI)"
   ]
  },
  {
   "cell_type": "code",
   "execution_count": 6,
   "id": "a2c044b5",
   "metadata": {},
   "outputs": [
    {
     "name": "stdout",
     "output_type": "stream",
     "text": [
      "Sub-fields in AI are:\n",
      "Machine Learning\n",
      "Neural Networks\n",
      "Vision\n",
      "Robotics\n",
      "Speech Processing\n",
      "Natural Language Processing\n"
     ]
    }
   ],
   "source": [
    "SubfieldsInAI.Subfields()"
   ]
  },
  {
   "cell_type": "code",
   "execution_count": 11,
   "id": "8254e241",
   "metadata": {},
   "outputs": [],
   "source": [
    "class OddEven:\n",
    "    def OddEven():\n",
    "        num=int(input(\" Enter a number:\"))\n",
    "        if (num%2==0):\n",
    "            print(num,\"is Even Number\")\n",
    "        else:\n",
    "            print(num,\"is Odd Number\")"
   ]
  },
  {
   "cell_type": "code",
   "execution_count": 12,
   "id": "cfdcdac5",
   "metadata": {},
   "outputs": [
    {
     "name": "stdout",
     "output_type": "stream",
     "text": [
      " Enter a number:52452\n",
      "52452 is Even Number\n"
     ]
    }
   ],
   "source": [
    "OddEven.OddEven()"
   ]
  },
  {
   "cell_type": "code",
   "execution_count": 13,
   "id": "17fedb21",
   "metadata": {},
   "outputs": [],
   "source": [
    "class ElegiblityForMarriage:\n",
    "    def Elegible():\n",
    "        a=input(\" Your Gender: \") \n",
    "        b=int(input(\"Your Age:\")) \n",
    "        if(a==\"Male\") and (b>21):\n",
    "            print(\" ELIGIBLE\") \n",
    "        elif(a==\"Female\") and (b>18):\n",
    "            print(\"ElIGIBLE\") \n",
    "        else: \n",
    "            print(\"NOT ELIGIBLE\")\n"
   ]
  },
  {
   "cell_type": "code",
   "execution_count": 15,
   "id": "e5ba0e00",
   "metadata": {},
   "outputs": [
    {
     "name": "stdout",
     "output_type": "stream",
     "text": [
      " Your Gender: Male\n",
      "Your Age:20\n",
      "NOT ELIGIBLE\n"
     ]
    }
   ],
   "source": [
    " ElegiblityForMarriage.Elegible()"
   ]
  },
  {
   "cell_type": "code",
   "execution_count": 16,
   "id": "58b16fad",
   "metadata": {},
   "outputs": [],
   "source": [
    "class FindPercent:\n",
    "    def percentage():\n",
    "        S1=int(input(\"Subject1=\"))\n",
    "        S2=int(input(\"Subject2=\"))\n",
    "        S3=int(input(\"Subject3=\"))\n",
    "        S4=int(input(\"Subject4=\"))\n",
    "        S5=int(input(\"Subject5=\"))\n",
    "        total = S1 + S2 + S3 + S4 + S5\n",
    "        print(\"Total:\", total )\n",
    "        Percentage =(total/500)*100\n",
    "        print(\"Percentage:\", Percentage )\n",
    "\n"
   ]
  },
  {
   "cell_type": "code",
   "execution_count": 18,
   "id": "bb8e946e",
   "metadata": {},
   "outputs": [
    {
     "name": "stdout",
     "output_type": "stream",
     "text": [
      "Subject1=98\n",
      "Subject2=87\n",
      "Subject3=95\n",
      "Subject4=95\n",
      "Subject5=93\n",
      "Total: 468\n",
      "Percentage: 93.60000000000001\n"
     ]
    }
   ],
   "source": [
    "FindPercent.percentage()"
   ]
  },
  {
   "cell_type": "code",
   "execution_count": 19,
   "id": "d35596bc",
   "metadata": {},
   "outputs": [],
   "source": [
    "class  triangle:\n",
    "    def triangle():\n",
    "        Height=int(input(\"Height:\"))\n",
    "        Breadth=int(input(\"Breadth:\"))\n",
    "        print(\"Area formula: (Height*Breadth)/2\")\n",
    "        Areaformula= (Height*Breadth)/2\n",
    "        print(\"Area of triangle:\",Areaformula )\n",
    "        Height1=int(input(\"Height1:\"))\n",
    "        Height2=int(input(\"Height2:\"))\n",
    "        Breadth=int(input(\"Breadth:\"))\n",
    "        print(\"Perimeter formula: Height1+Height2+Breadth\")\n",
    "        Perimeterformula=Height1+Height2+Breadth\n",
    "        print(\"Perimeter of Triangle::\",Perimeterformula)\n",
    "\n",
    "    "
   ]
  },
  {
   "cell_type": "code",
   "execution_count": 20,
   "id": "0362bcc9",
   "metadata": {},
   "outputs": [
    {
     "name": "stdout",
     "output_type": "stream",
     "text": [
      "Height:32\n",
      "Breadth:34\n",
      "Area formula: (Height*Breadth)/2\n",
      "Area of triangle: 544.0\n",
      "Height1:2\n",
      "Height2:4\n",
      "Breadth:4\n",
      "Perimeter formula: Height1+Height2+Breadth\n",
      "Perimeter of Triangle:: 10\n"
     ]
    }
   ],
   "source": [
    "triangle.triangle()"
   ]
  },
  {
   "cell_type": "code",
   "execution_count": null,
   "id": "a7f9bd5f",
   "metadata": {},
   "outputs": [],
   "source": [
    "lists=[\"Machine Learning\" , \"Neural Networks\", \"Vision\" , \"Robotics\" , \"Speech Processing\" , \"Natural Language Processing\"]\n",
    "class SubfieldsInAI:\n",
    "    def Subfields():\n",
    "        print(\"Sub-fields in AI are:\", end='\\n')\n",
    "        for AI in lists:\n",
    "            print(AI)\n",
    "    def OddEven():\n",
    "        num=int(input(\" Enter a number:\"))\n",
    "        if (num%2==0):\n",
    "            print(num,\"is Even Number\")\n",
    "        else:\n",
    "            print(num,\"is Odd Number\")\n",
    "    def Elegible():\n",
    "        a=input(\" Your Gender: \") \n",
    "        b=int(input(\"Your Age:\")) \n",
    "        if(a==\"Male\") and (b>21):\n",
    "            print(\" ELIGIBLE\") \n",
    "        elif(a==\"Female\") and (b>18):\n",
    "            print(\"ElIGIBLE\") \n",
    "        else: \n",
    "            print(\"NOT ELIGIBLE\")\n",
    "    def percentage():\n",
    "        S1=int(input(\"Subject1=\"))\n",
    "        S2=int(input(\"Subject2=\"))\n",
    "        S3=int(input(\"Subject3=\"))\n",
    "        S4=int(input(\"Subject4=\"))\n",
    "        S5=int(input(\"Subject5=\"))\n",
    "        total = S1 + S2 + S3 + S4 + S5\n",
    "        print(\"Total:\", total )\n",
    "        Percentage =(total/500)*100\n",
    "        print(\"Percentage:\", Percentage )\n",
    "    def triangle():\n",
    "        Height=int(input(\"Height:\"))\n",
    "        Breadth=int(input(\"Breadth:\"))\n",
    "        print(\"Area formula: (Height*Breadth)/2\")\n",
    "        Areaformula= (Height*Breadth)/2\n",
    "        print(\"Area of triangle:\",Areaformula )\n",
    "        Height1=int(input(\"Height1:\"))\n",
    "        Height2=int(input(\"Height2:\"))\n",
    "        Breadth=int(input(\"Breadth:\"))\n",
    "        print(\"Perimeter formula: Height1+Height2+Breadth\")\n",
    "        Perimeterformula=Height1+Height2+Breadth\n",
    "        print(\"Perimeter of Triangle::\",Perimeterformula)\n",
    "\n",
    "    \n"
   ]
  }
 ],
 "metadata": {
  "kernelspec": {
   "display_name": "Python 3 (ipykernel)",
   "language": "python",
   "name": "python3"
  },
  "language_info": {
   "codemirror_mode": {
    "name": "ipython",
    "version": 3
   },
   "file_extension": ".py",
   "mimetype": "text/x-python",
   "name": "python",
   "nbconvert_exporter": "python",
   "pygments_lexer": "ipython3",
   "version": "3.11.7"
  }
 },
 "nbformat": 4,
 "nbformat_minor": 5
}
